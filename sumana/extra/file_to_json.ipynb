{
 "cells": [
  {
   "cell_type": "code",
   "execution_count": 1,
   "metadata": {
    "collapsed": true
   },
   "outputs": [],
   "source": [
    "import pandas as pd\n",
    "csv_file = pd.DataFrame(pd.read_csv(\"Trade_over_2Y.csv\", sep = \",\", header = 0, index_col = False))\n",
    "csv_file.to_json(\"trade.json\", orient = \"records\")"
   ]
  },
  {
   "cell_type": "code",
   "execution_count": 2,
   "metadata": {
    "collapsed": true
   },
   "outputs": [],
   "source": [
    "csv_file = pd.DataFrame(pd.read_csv(\"Volume_over_2Y.csv\", sep = \",\", header = 0, index_col = False))\n",
    "csv_file.to_json(\"volume.json\", orient = \"records\")"
   ]
  },
  {
   "cell_type": "code",
   "execution_count": 3,
   "metadata": {},
   "outputs": [],
   "source": [
    "import pandas as pd\n",
    "csv_file = pd.DataFrame(pd.read_csv(\"d3file.csv\", sep = \",\", header = 0, index_col = False))\n",
    "csv_file.to_json(\"d3file.json\", orient = \"records\")"
   ]
  },
  {
   "cell_type": "code",
   "execution_count": null,
   "metadata": {
    "collapsed": true
   },
   "outputs": [],
   "source": []
  }
 ],
 "metadata": {
  "kernelspec": {
   "display_name": "Python [conda env:PythonData]",
   "language": "python",
   "name": "conda-env-PythonData-py"
  },
  "language_info": {
   "codemirror_mode": {
    "name": "ipython",
    "version": 3
   },
   "file_extension": ".py",
   "mimetype": "text/x-python",
   "name": "python",
   "nbconvert_exporter": "python",
   "pygments_lexer": "ipython3",
   "version": "3.6.1"
  }
 },
 "nbformat": 4,
 "nbformat_minor": 2
}
